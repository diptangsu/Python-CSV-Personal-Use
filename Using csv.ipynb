{
 "cells": [
  {
   "cell_type": "code",
   "execution_count": 1,
   "metadata": {},
   "outputs": [],
   "source": [
    "import csv"
   ]
  },
  {
   "cell_type": "code",
   "execution_count": 27,
   "metadata": {},
   "outputs": [],
   "source": [
    "input_file = open('input/Python Skill Development Programme Registration FINAL.csv', 'r')\n",
    "number_of_students = open('csv-outputs/Number of Students.txt', 'w')"
   ]
  },
  {
   "cell_type": "code",
   "execution_count": 28,
   "metadata": {},
   "outputs": [],
   "source": [
    "depts = ['CSE', 'IT', 'ECE', 'EIE', 'EE', 'ME', 'MCA']\n",
    "years = 4"
   ]
  },
  {
   "cell_type": "code",
   "execution_count": 29,
   "metadata": {},
   "outputs": [],
   "source": [
    "# stores the csv writers for each file.\n",
    "output = [\n",
    "    [\n",
    "        open(f'csv-outputs/Year {i + 1} Dept {dept}.csv', 'w')\n",
    "        for dept in depts\n",
    "    ] \n",
    "    for i in range(years)\n",
    "]"
   ]
  },
  {
   "cell_type": "code",
   "execution_count": 30,
   "metadata": {},
   "outputs": [],
   "source": [
    "# files for all departments for all years\n",
    "writer = [\n",
    "    [\n",
    "        csv.writer(f)\n",
    "        for f in row\n",
    "    ]\n",
    "    for row in output\n",
    "]"
   ]
  },
  {
   "cell_type": "code",
   "execution_count": 31,
   "metadata": {},
   "outputs": [],
   "source": [
    "# stores number of student per stream per year.\n",
    "counter_of_students = [\n",
    "    [0] * len(depts) \n",
    "    for i in range(years)\n",
    "]"
   ]
  },
  {
   "cell_type": "code",
   "execution_count": 32,
   "metadata": {},
   "outputs": [],
   "source": [
    "reader = csv.reader(input_file)"
   ]
  },
  {
   "cell_type": "code",
   "execution_count": 33,
   "metadata": {},
   "outputs": [],
   "source": [
    "lines = list(reader)"
   ]
  },
  {
   "cell_type": "code",
   "execution_count": 35,
   "metadata": {},
   "outputs": [
    {
     "data": {
      "text/plain": [
       "460"
      ]
     },
     "execution_count": 35,
     "metadata": {},
     "output_type": "execute_result"
    }
   ],
   "source": [
    "len(lines)"
   ]
  },
  {
   "cell_type": "code",
   "execution_count": 48,
   "metadata": {},
   "outputs": [
    {
     "name": "stdout",
     "output_type": "stream",
     "text": [
      "['Timestamp', 'Name', 'AOT Mail Address', 'Phone Number', 'Year', 'Department', 'Languages known']\n"
     ]
    }
   ],
   "source": [
    "print(lines[0])"
   ]
  },
  {
   "cell_type": "code",
   "execution_count": 46,
   "metadata": {},
   "outputs": [
    {
     "data": {
      "text/plain": [
       "['2018/01/11 9:59:46 PM GMT+5:30', 'Aayush jha', '', '', '1st', 'IT', '']"
      ]
     },
     "execution_count": 46,
     "metadata": {},
     "output_type": "execute_result"
    }
   ],
   "source": [
    "lines[1]"
   ]
  },
  {
   "cell_type": "code",
   "execution_count": 47,
   "metadata": {},
   "outputs": [
    {
     "data": {
      "text/plain": [
       "['2018/01/16 9:36:30 AM GMT+5:30', 'Abhinav Jain', '', '', '1st', 'CSE', 'C++']"
      ]
     },
     "execution_count": 47,
     "metadata": {},
     "output_type": "execute_result"
    }
   ],
   "source": [
    "lines[3]"
   ]
  },
  {
   "cell_type": "code",
   "execution_count": 8,
   "metadata": {},
   "outputs": [],
   "source": [
    "for row in :\n",
    "    year = int(row[4][0]) - 1  # 5th column of csv stores year, -1 for 0 indexing\n",
    "    dept = depts.index(row[5])  # 6th column stores the department\n",
    "    \n",
    "    writer[year][dept].writerow(row)\n",
    "    counter_of_students[year][dept] += 1"
   ]
  },
  {
   "cell_type": "code",
   "execution_count": 9,
   "metadata": {},
   "outputs": [],
   "source": [
    "# Filling up a file with details about number of students per dept per year.\n",
    "for i in range(years):\n",
    "    number_of_students.write(f'Year {i + 1}\\n')\n",
    "    s = 0\n",
    "    for j, dept in enumerate(depts):\n",
    "        s += counter_of_students[i][j]\n",
    "        number_of_students.write(f'{dept}\\t-> {counter_of_students[i][j]} students\\n')\n",
    "    number_of_students.write(f'Total = {s} students\\n\\n')"
   ]
  },
  {
   "cell_type": "code",
   "execution_count": 10,
   "metadata": {},
   "outputs": [],
   "source": [
    "# close all the files\n",
    "number_of_students.close()\n",
    "input_file.close()\n",
    "for i in range(years):\n",
    "    for j in range(len(depts)):\n",
    "        output[i][j].close()"
   ]
  },
  {
   "cell_type": "code",
   "execution_count": null,
   "metadata": {},
   "outputs": [],
   "source": []
  }
 ],
 "metadata": {
  "kernelspec": {
   "display_name": "Python 3",
   "language": "python",
   "name": "python3"
  },
  "language_info": {
   "codemirror_mode": {
    "name": "ipython",
    "version": 3
   },
   "file_extension": ".py",
   "mimetype": "text/x-python",
   "name": "python",
   "nbconvert_exporter": "python",
   "pygments_lexer": "ipython3",
   "version": "3.6.9"
  },
  "toc": {
   "base_numbering": 1,
   "nav_menu": {},
   "number_sections": true,
   "sideBar": true,
   "skip_h1_title": false,
   "title_cell": "Table of Contents",
   "title_sidebar": "Contents",
   "toc_cell": false,
   "toc_position": {},
   "toc_section_display": true,
   "toc_window_display": false
  }
 },
 "nbformat": 4,
 "nbformat_minor": 1
}
