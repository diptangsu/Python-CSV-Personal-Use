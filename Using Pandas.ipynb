{
 "cells": [
  {
   "cell_type": "code",
   "execution_count": 1,
   "metadata": {
    "collapsed": true
   },
   "outputs": [],
   "source": [
    "import pandas as pd"
   ]
  },
  {
   "cell_type": "code",
   "execution_count": 6,
   "metadata": {
    "collapsed": true
   },
   "outputs": [],
   "source": [
    "file = pd.read_csv('input/Python Skill Development Programme Registration FINAL.csv')"
   ]
  },
  {
   "cell_type": "code",
   "execution_count": 12,
   "metadata": {
    "collapsed": false
   },
   "outputs": [
    {
     "data": {
      "text/plain": [
       "pandas.core.frame.DataFrame"
      ]
     },
     "execution_count": 12,
     "metadata": {},
     "output_type": "execute_result"
    }
   ],
   "source": [
    "type(file)"
   ]
  },
  {
   "cell_type": "code",
   "execution_count": 24,
   "metadata": {
    "collapsed": false,
    "scrolled": true
   },
   "outputs": [
    {
     "data": {
      "text/html": [
       "<div>\n",
       "<table border=\"1\" class=\"dataframe\">\n",
       "  <thead>\n",
       "    <tr style=\"text-align: right;\">\n",
       "      <th></th>\n",
       "      <th>Timestamp</th>\n",
       "      <th>Name</th>\n",
       "      <th>AOT Mail Address</th>\n",
       "      <th>Phone Number</th>\n",
       "      <th>Year</th>\n",
       "      <th>Department</th>\n",
       "      <th>Languages known</th>\n",
       "    </tr>\n",
       "  </thead>\n",
       "  <tbody>\n",
       "    <tr>\n",
       "      <th>0</th>\n",
       "      <td>2018/01/11 9:59:46 PM GMT+5:30</td>\n",
       "      <td>Aayush jha</td>\n",
       "      <td>NaN</td>\n",
       "      <td>NaN</td>\n",
       "      <td>1st</td>\n",
       "      <td>IT</td>\n",
       "      <td>NaN</td>\n",
       "    </tr>\n",
       "    <tr>\n",
       "      <th>1</th>\n",
       "      <td>2018/01/12 7:25:38 AM GMT+5:30</td>\n",
       "      <td>Abhay sharma</td>\n",
       "      <td>NaN</td>\n",
       "      <td>NaN</td>\n",
       "      <td>1st</td>\n",
       "      <td>ECE</td>\n",
       "      <td>Java</td>\n",
       "    </tr>\n",
       "    <tr>\n",
       "      <th>2</th>\n",
       "      <td>2018/01/16 9:36:30 AM GMT+5:30</td>\n",
       "      <td>Abhinav Jain</td>\n",
       "      <td>NaN</td>\n",
       "      <td>NaN</td>\n",
       "      <td>1st</td>\n",
       "      <td>CSE</td>\n",
       "      <td>C++</td>\n",
       "    </tr>\n",
       "    <tr>\n",
       "      <th>3</th>\n",
       "      <td>2018/01/11 10:01:25 PM GMT+5:30</td>\n",
       "      <td>Abhirup Dey</td>\n",
       "      <td>NaN</td>\n",
       "      <td>NaN</td>\n",
       "      <td>2nd</td>\n",
       "      <td>EE</td>\n",
       "      <td>C</td>\n",
       "    </tr>\n",
       "  </tbody>\n",
       "</table>\n",
       "</div>"
      ],
      "text/plain": [
       "                         Timestamp           Name  AOT Mail Address  \\\n",
       "0   2018/01/11 9:59:46 PM GMT+5:30     Aayush jha               NaN   \n",
       "1   2018/01/12 7:25:38 AM GMT+5:30  Abhay sharma                NaN   \n",
       "2   2018/01/16 9:36:30 AM GMT+5:30   Abhinav Jain               NaN   \n",
       "3  2018/01/11 10:01:25 PM GMT+5:30    Abhirup Dey               NaN   \n",
       "\n",
       "   Phone Number Year Department Languages known  \n",
       "0           NaN  1st         IT             NaN  \n",
       "1           NaN  1st        ECE            Java  \n",
       "2           NaN  1st        CSE             C++  \n",
       "3           NaN  2nd         EE               C  "
      ]
     },
     "execution_count": 24,
     "metadata": {},
     "output_type": "execute_result"
    }
   ],
   "source": [
    "file.head(4)"
   ]
  },
  {
   "cell_type": "code",
   "execution_count": 95,
   "metadata": {
    "collapsed": false
   },
   "outputs": [],
   "source": [
    "file['Year'] = file['Year'].apply(lambda y: int(y[0]));"
   ]
  },
  {
   "cell_type": "code",
   "execution_count": 96,
   "metadata": {
    "collapsed": false
   },
   "outputs": [
    {
     "data": {
      "text/html": [
       "<div>\n",
       "<table border=\"1\" class=\"dataframe\">\n",
       "  <thead>\n",
       "    <tr style=\"text-align: right;\">\n",
       "      <th></th>\n",
       "      <th>Timestamp</th>\n",
       "      <th>Name</th>\n",
       "      <th>AOT Mail Address</th>\n",
       "      <th>Phone Number</th>\n",
       "      <th>Year</th>\n",
       "      <th>Department</th>\n",
       "      <th>Languages known</th>\n",
       "    </tr>\n",
       "  </thead>\n",
       "  <tbody>\n",
       "    <tr>\n",
       "      <th>0</th>\n",
       "      <td>2018/01/11 9:59:46 PM GMT+5:30</td>\n",
       "      <td>Aayush jha</td>\n",
       "      <td>NaN</td>\n",
       "      <td>NaN</td>\n",
       "      <td>1</td>\n",
       "      <td>IT</td>\n",
       "      <td>NaN</td>\n",
       "    </tr>\n",
       "    <tr>\n",
       "      <th>1</th>\n",
       "      <td>2018/01/12 7:25:38 AM GMT+5:30</td>\n",
       "      <td>Abhay sharma</td>\n",
       "      <td>NaN</td>\n",
       "      <td>NaN</td>\n",
       "      <td>1</td>\n",
       "      <td>ECE</td>\n",
       "      <td>Java</td>\n",
       "    </tr>\n",
       "    <tr>\n",
       "      <th>2</th>\n",
       "      <td>2018/01/16 9:36:30 AM GMT+5:30</td>\n",
       "      <td>Abhinav Jain</td>\n",
       "      <td>NaN</td>\n",
       "      <td>NaN</td>\n",
       "      <td>1</td>\n",
       "      <td>CSE</td>\n",
       "      <td>C++</td>\n",
       "    </tr>\n",
       "    <tr>\n",
       "      <th>3</th>\n",
       "      <td>2018/01/11 10:01:25 PM GMT+5:30</td>\n",
       "      <td>Abhirup Dey</td>\n",
       "      <td>NaN</td>\n",
       "      <td>NaN</td>\n",
       "      <td>2</td>\n",
       "      <td>EE</td>\n",
       "      <td>C</td>\n",
       "    </tr>\n",
       "  </tbody>\n",
       "</table>\n",
       "</div>"
      ],
      "text/plain": [
       "                         Timestamp           Name  AOT Mail Address  \\\n",
       "0   2018/01/11 9:59:46 PM GMT+5:30     Aayush jha               NaN   \n",
       "1   2018/01/12 7:25:38 AM GMT+5:30  Abhay sharma                NaN   \n",
       "2   2018/01/16 9:36:30 AM GMT+5:30   Abhinav Jain               NaN   \n",
       "3  2018/01/11 10:01:25 PM GMT+5:30    Abhirup Dey               NaN   \n",
       "\n",
       "   Phone Number  Year Department Languages known  \n",
       "0           NaN     1         IT             NaN  \n",
       "1           NaN     1        ECE            Java  \n",
       "2           NaN     1        CSE             C++  \n",
       "3           NaN     2         EE               C  "
      ]
     },
     "execution_count": 96,
     "metadata": {},
     "output_type": "execute_result"
    }
   ],
   "source": [
    "file.head(4)"
   ]
  },
  {
   "cell_type": "code",
   "execution_count": 97,
   "metadata": {
    "collapsed": false
   },
   "outputs": [],
   "source": [
    "depts = ['CSE', 'IT', 'ECE', 'EIE', 'EE', 'ME', 'MCA']\n",
    "years = 4"
   ]
  },
  {
   "cell_type": "code",
   "execution_count": 98,
   "metadata": {
    "collapsed": false
   },
   "outputs": [],
   "source": [
    "output_dfs = [\n",
    "    [\n",
    "        (\n",
    "            \"Year {i}: {dept}\".format(i=i+1, dept=dept),\n",
    "            file[(file['Year'] == i+1) & (file['Department'] == dept)]\n",
    "        )\n",
    "        for dept in depts\n",
    "    ]\n",
    "    for i in range(years)\n",
    "]"
   ]
  },
  {
   "cell_type": "code",
   "execution_count": 99,
   "metadata": {
    "collapsed": false
   },
   "outputs": [
    {
     "name": "stdout",
     "output_type": "stream",
     "text": [
      "Year 1: CSE\n"
     ]
    },
    {
     "data": {
      "text/html": [
       "<div>\n",
       "<table border=\"1\" class=\"dataframe\">\n",
       "  <thead>\n",
       "    <tr style=\"text-align: right;\">\n",
       "      <th></th>\n",
       "      <th>Timestamp</th>\n",
       "      <th>Name</th>\n",
       "      <th>AOT Mail Address</th>\n",
       "      <th>Phone Number</th>\n",
       "      <th>Year</th>\n",
       "      <th>Department</th>\n",
       "      <th>Languages known</th>\n",
       "    </tr>\n",
       "  </thead>\n",
       "  <tbody>\n",
       "    <tr>\n",
       "      <th>2</th>\n",
       "      <td>2018/01/16 9:36:30 AM GMT+5:30</td>\n",
       "      <td>Abhinav Jain</td>\n",
       "      <td>NaN</td>\n",
       "      <td>NaN</td>\n",
       "      <td>1</td>\n",
       "      <td>CSE</td>\n",
       "      <td>C++</td>\n",
       "    </tr>\n",
       "    <tr>\n",
       "      <th>6</th>\n",
       "      <td>2018/01/12 10:48:03 PM GMT+5:30</td>\n",
       "      <td>Abhishek Singh</td>\n",
       "      <td>NaN</td>\n",
       "      <td>NaN</td>\n",
       "      <td>1</td>\n",
       "      <td>CSE</td>\n",
       "      <td>NaN</td>\n",
       "    </tr>\n",
       "    <tr>\n",
       "      <th>16</th>\n",
       "      <td>2018/01/11 9:57:43 PM GMT+5:30</td>\n",
       "      <td>Akash Munshi</td>\n",
       "      <td>NaN</td>\n",
       "      <td>NaN</td>\n",
       "      <td>1</td>\n",
       "      <td>CSE</td>\n",
       "      <td>Python;Java</td>\n",
       "    </tr>\n",
       "    <tr>\n",
       "      <th>47</th>\n",
       "      <td>2018/01/11 9:55:51 PM GMT+5:30</td>\n",
       "      <td>Ankit Saha</td>\n",
       "      <td>NaN</td>\n",
       "      <td>NaN</td>\n",
       "      <td>1</td>\n",
       "      <td>CSE</td>\n",
       "      <td>Java;JavaScript;PHP;Arduino</td>\n",
       "    </tr>\n",
       "    <tr>\n",
       "      <th>58</th>\n",
       "      <td>2018/01/12 3:35:04 PM GMT+5:30</td>\n",
       "      <td>Archika Nandi</td>\n",
       "      <td>NaN</td>\n",
       "      <td>NaN</td>\n",
       "      <td>1</td>\n",
       "      <td>CSE</td>\n",
       "      <td>C++</td>\n",
       "    </tr>\n",
       "  </tbody>\n",
       "</table>\n",
       "</div>"
      ],
      "text/plain": [
       "                          Timestamp            Name  AOT Mail Address  \\\n",
       "2    2018/01/16 9:36:30 AM GMT+5:30    Abhinav Jain               NaN   \n",
       "6   2018/01/12 10:48:03 PM GMT+5:30  Abhishek Singh               NaN   \n",
       "16   2018/01/11 9:57:43 PM GMT+5:30    Akash Munshi               NaN   \n",
       "47   2018/01/11 9:55:51 PM GMT+5:30      Ankit Saha               NaN   \n",
       "58   2018/01/12 3:35:04 PM GMT+5:30   Archika Nandi               NaN   \n",
       "\n",
       "    Phone Number  Year Department              Languages known  \n",
       "2            NaN     1        CSE                          C++  \n",
       "6            NaN     1        CSE                          NaN  \n",
       "16           NaN     1        CSE                  Python;Java  \n",
       "47           NaN     1        CSE  Java;JavaScript;PHP;Arduino  \n",
       "58           NaN     1        CSE                          C++  "
      ]
     },
     "execution_count": 99,
     "metadata": {},
     "output_type": "execute_result"
    }
   ],
   "source": [
    "print(output_dfs[0][0][0])\n",
    "output_dfs[0][0][1].head(5)"
   ]
  },
  {
   "cell_type": "code",
   "execution_count": 100,
   "metadata": {
    "collapsed": false
   },
   "outputs": [
    {
     "name": "stdout",
     "output_type": "stream",
     "text": [
      "Year 1: IT\n"
     ]
    },
    {
     "data": {
      "text/html": [
       "<div>\n",
       "<table border=\"1\" class=\"dataframe\">\n",
       "  <thead>\n",
       "    <tr style=\"text-align: right;\">\n",
       "      <th></th>\n",
       "      <th>Timestamp</th>\n",
       "      <th>Name</th>\n",
       "      <th>AOT Mail Address</th>\n",
       "      <th>Phone Number</th>\n",
       "      <th>Year</th>\n",
       "      <th>Department</th>\n",
       "      <th>Languages known</th>\n",
       "    </tr>\n",
       "  </thead>\n",
       "  <tbody>\n",
       "    <tr>\n",
       "      <th>0</th>\n",
       "      <td>2018/01/11 9:59:46 PM GMT+5:30</td>\n",
       "      <td>Aayush jha</td>\n",
       "      <td>NaN</td>\n",
       "      <td>NaN</td>\n",
       "      <td>1</td>\n",
       "      <td>IT</td>\n",
       "      <td>NaN</td>\n",
       "    </tr>\n",
       "    <tr>\n",
       "      <th>12</th>\n",
       "      <td>2018/01/14 10:50:52 PM GMT+5:30</td>\n",
       "      <td>Adityakash singh</td>\n",
       "      <td>NaN</td>\n",
       "      <td>NaN</td>\n",
       "      <td>1</td>\n",
       "      <td>IT</td>\n",
       "      <td>C</td>\n",
       "    </tr>\n",
       "    <tr>\n",
       "      <th>18</th>\n",
       "      <td>2018/01/15 10:41:29 PM GMT+5:30</td>\n",
       "      <td>AKHILBARAN GHOSH</td>\n",
       "      <td>NaN</td>\n",
       "      <td>NaN</td>\n",
       "      <td>1</td>\n",
       "      <td>IT</td>\n",
       "      <td>Java;C;C++</td>\n",
       "    </tr>\n",
       "    <tr>\n",
       "      <th>29</th>\n",
       "      <td>2018/01/14 6:10:54 PM GMT+5:30</td>\n",
       "      <td>ANAND KUMAR GUPTA</td>\n",
       "      <td>NaN</td>\n",
       "      <td>NaN</td>\n",
       "      <td>1</td>\n",
       "      <td>IT</td>\n",
       "      <td>C;C++</td>\n",
       "    </tr>\n",
       "    <tr>\n",
       "      <th>30</th>\n",
       "      <td>2018/01/17 10:46:32 AM GMT+5:30</td>\n",
       "      <td>Ananya Das</td>\n",
       "      <td>NaN</td>\n",
       "      <td>NaN</td>\n",
       "      <td>1</td>\n",
       "      <td>IT</td>\n",
       "      <td>C;C++</td>\n",
       "    </tr>\n",
       "  </tbody>\n",
       "</table>\n",
       "</div>"
      ],
      "text/plain": [
       "                          Timestamp               Name  AOT Mail Address  \\\n",
       "0    2018/01/11 9:59:46 PM GMT+5:30         Aayush jha               NaN   \n",
       "12  2018/01/14 10:50:52 PM GMT+5:30   Adityakash singh               NaN   \n",
       "18  2018/01/15 10:41:29 PM GMT+5:30   AKHILBARAN GHOSH               NaN   \n",
       "29   2018/01/14 6:10:54 PM GMT+5:30  ANAND KUMAR GUPTA               NaN   \n",
       "30  2018/01/17 10:46:32 AM GMT+5:30         Ananya Das               NaN   \n",
       "\n",
       "    Phone Number  Year Department Languages known  \n",
       "0            NaN     1         IT             NaN  \n",
       "12           NaN     1         IT               C  \n",
       "18           NaN     1         IT      Java;C;C++  \n",
       "29           NaN     1         IT           C;C++  \n",
       "30           NaN     1         IT           C;C++  "
      ]
     },
     "execution_count": 100,
     "metadata": {},
     "output_type": "execute_result"
    }
   ],
   "source": [
    "print(output_dfs[0][1][0])\n",
    "output_dfs[0][1][1].head(5)"
   ]
  },
  {
   "cell_type": "code",
   "execution_count": 101,
   "metadata": {
    "collapsed": false
   },
   "outputs": [
    {
     "name": "stdout",
     "output_type": "stream",
     "text": [
      "Year 2: CSE\n"
     ]
    },
    {
     "data": {
      "text/html": [
       "<div>\n",
       "<table border=\"1\" class=\"dataframe\">\n",
       "  <thead>\n",
       "    <tr style=\"text-align: right;\">\n",
       "      <th></th>\n",
       "      <th>Timestamp</th>\n",
       "      <th>Name</th>\n",
       "      <th>AOT Mail Address</th>\n",
       "      <th>Phone Number</th>\n",
       "      <th>Year</th>\n",
       "      <th>Department</th>\n",
       "      <th>Languages known</th>\n",
       "    </tr>\n",
       "  </thead>\n",
       "  <tbody>\n",
       "    <tr>\n",
       "      <th>14</th>\n",
       "      <td>2018/01/17 6:50:27 PM GMT+5:30</td>\n",
       "      <td>Akash Das</td>\n",
       "      <td>NaN</td>\n",
       "      <td>NaN</td>\n",
       "      <td>2</td>\n",
       "      <td>CSE</td>\n",
       "      <td>C</td>\n",
       "    </tr>\n",
       "    <tr>\n",
       "      <th>15</th>\n",
       "      <td>2018/01/14 9:26:30 PM GMT+5:30</td>\n",
       "      <td>AKASH DEY</td>\n",
       "      <td>NaN</td>\n",
       "      <td>NaN</td>\n",
       "      <td>2</td>\n",
       "      <td>CSE</td>\n",
       "      <td>Java;C;C++</td>\n",
       "    </tr>\n",
       "    <tr>\n",
       "      <th>19</th>\n",
       "      <td>2018/01/12 6:18:04 PM GMT+5:30</td>\n",
       "      <td>Aman Kumar soni</td>\n",
       "      <td>NaN</td>\n",
       "      <td>NaN</td>\n",
       "      <td>2</td>\n",
       "      <td>CSE</td>\n",
       "      <td>C</td>\n",
       "    </tr>\n",
       "    <tr>\n",
       "      <th>22</th>\n",
       "      <td>2018/01/12 2:22:47 PM GMT+5:30</td>\n",
       "      <td>amit kumar mitra</td>\n",
       "      <td>NaN</td>\n",
       "      <td>NaN</td>\n",
       "      <td>2</td>\n",
       "      <td>CSE</td>\n",
       "      <td>C</td>\n",
       "    </tr>\n",
       "    <tr>\n",
       "      <th>35</th>\n",
       "      <td>2018/01/15 8:23:16 PM GMT+5:30</td>\n",
       "      <td>Anindya Chatterjee</td>\n",
       "      <td>NaN</td>\n",
       "      <td>NaN</td>\n",
       "      <td>2</td>\n",
       "      <td>CSE</td>\n",
       "      <td>C</td>\n",
       "    </tr>\n",
       "  </tbody>\n",
       "</table>\n",
       "</div>"
      ],
      "text/plain": [
       "                         Timestamp                Name  AOT Mail Address  \\\n",
       "14  2018/01/17 6:50:27 PM GMT+5:30           Akash Das               NaN   \n",
       "15  2018/01/14 9:26:30 PM GMT+5:30           AKASH DEY               NaN   \n",
       "19  2018/01/12 6:18:04 PM GMT+5:30     Aman Kumar soni               NaN   \n",
       "22  2018/01/12 2:22:47 PM GMT+5:30    amit kumar mitra               NaN   \n",
       "35  2018/01/15 8:23:16 PM GMT+5:30  Anindya Chatterjee               NaN   \n",
       "\n",
       "    Phone Number  Year Department Languages known  \n",
       "14           NaN     2        CSE               C  \n",
       "15           NaN     2        CSE      Java;C;C++  \n",
       "19           NaN     2        CSE               C  \n",
       "22           NaN     2        CSE               C  \n",
       "35           NaN     2        CSE               C  "
      ]
     },
     "execution_count": 101,
     "metadata": {},
     "output_type": "execute_result"
    }
   ],
   "source": [
    "print(output_dfs[1][0][0])\n",
    "output_dfs[1][0][1].head(5)"
   ]
  },
  {
   "cell_type": "code",
   "execution_count": null,
   "metadata": {
    "collapsed": false
   },
   "outputs": [],
   "source": []
  }
 ],
 "metadata": {
  "anaconda-cloud": {},
  "kernelspec": {
   "display_name": "Python [conda root]",
   "language": "python",
   "name": "conda-root-py"
  },
  "language_info": {
   "codemirror_mode": {
    "name": "ipython",
    "version": 3
   },
   "file_extension": ".py",
   "mimetype": "text/x-python",
   "name": "python",
   "nbconvert_exporter": "python",
   "pygments_lexer": "ipython3",
   "version": "3.5.2"
  }
 },
 "nbformat": 4,
 "nbformat_minor": 1
}
